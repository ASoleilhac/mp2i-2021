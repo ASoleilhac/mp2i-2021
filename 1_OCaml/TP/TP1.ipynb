{
 "cells": [
  {
   "cell_type": "markdown",
   "id": "4ef1c104",
   "metadata": {},
   "source": [
    "# TP1 : Types, variables, fonctions"
   ]
  },
  {
   "cell_type": "markdown",
   "id": "becd8118",
   "metadata": {},
   "source": [
    "## Types\n",
    "\n",
    "Devinez le type des fonctions suivantes et vérifier avec OCaml :\n",
    "```ocaml\n",
    "let f x y = x**y\n",
    "```\n",
    "```ocaml\n",
    "let g x y = x (y + 1)\n",
    "```\n",
    "```ocaml\n",
    "let h x y z = x (3. *. (y z)) + 1\n",
    "```\n",
    "Puis tester ces fonctions sur des arguments de votre choix."
   ]
  },
  {
   "cell_type": "code",
   "execution_count": 3,
   "id": "6c875cef-a5e4-488d-a6b0-f3e1d03b7bad",
   "metadata": {},
   "outputs": [
    {
     "ename": "error",
     "evalue": "compile_error",
     "output_type": "error",
     "traceback": [
      "File \"[3]\", line 3, characters 0-2:\n3 | (*3. (float -> int) -> ('a -> float) -> 'a -> int\n    ^^\nError: Comment not terminated\n"
     ]
    }
   ],
   "source": [
    "(*1. float -> float -> float)\n",
    "(*2. int -> 'a) -> int -> 'a)\n",
    "(*3. (float -> int) -> ('a -> float) -> 'a -> int"
   ]
  },
  {
   "cell_type": "markdown",
   "id": "23e9b523",
   "metadata": {},
   "source": [
    "## Tangente hyperbolique\n",
    "\n",
    "Définir en OCaml la fonction $\\tanh : x \\longmapsto \\frac{e^x - e^{-x}}{e^x + e^{-x}}$ en utilisant un seul appel à la fonction `exp : float -> float` de OCaml."
   ]
  },
  {
   "cell_type": "code",
   "execution_count": 5,
   "id": "35b72c88-c658-47d0-ad8f-4a2efb3cf4bb",
   "metadata": {},
   "outputs": [
    {
     "data": {
      "text/plain": [
       "val tanh2 : float -> float = <fun>\n"
      ]
     },
     "execution_count": 5,
     "metadata": {},
     "output_type": "execute_result"
    }
   ],
   "source": [
    "let tanh2 x =\n",
    "    let e x = exp x in\n",
    "    (e(x) -. e(-.x))/.(e(x)+.e(-.x))"
   ]
  },
  {
   "cell_type": "markdown",
   "id": "74da135f",
   "metadata": {},
   "source": [
    "## Géométrie\n",
    "\n",
    "Le type `float*float` désigne un couple de flottant, représentant un point `p` dans $\\mathbb{R}^2$. On peut récupérer les coordonnées de `p` avec `let x, y = p` . Par exemple :"
   ]
  },
  {
   "cell_type": "code",
   "execution_count": 1,
   "id": "7073f5d1",
   "metadata": {
    "execution": {
     "iopub.execute_input": "2021-09-09T19:25:52.406644Z",
     "iopub.status.busy": "2021-09-09T19:25:52.405787Z",
     "iopub.status.idle": "2021-09-09T19:25:52.409142Z",
     "shell.execute_reply": "2021-09-09T19:25:52.408391Z"
    }
   },
   "outputs": [
    {
     "data": {
      "text/plain": [
       "- : float = 2.1\n"
      ]
     },
     "execution_count": 1,
     "metadata": {},
     "output_type": "execute_result"
    }
   ],
   "source": [
    "let p = (2.1, 3.7) in (* exemple de point *)\n",
    "let x, y = p in (* récupération des coordonnées *)\n",
    "x;; (* affichage de x *)"
   ]
  },
  {
   "cell_type": "markdown",
   "id": "898ce016",
   "metadata": {},
   "source": [
    "**Exercice** Écrire une fonction `aire_boule : float -> float` telle que `aire_boule r` renvoie l'aire d'une boule (disque en dimension 3) de rayon `r`, c'est à dire $\\frac{4 \\pi r^3}{3}$. On pourra utiliser `Float.pi`."
   ]
  },
  {
   "cell_type": "code",
   "execution_count": 10,
   "id": "95eaed37-f6aa-4e9e-8271-38d7612cd484",
   "metadata": {},
   "outputs": [
    {
     "data": {
      "text/plain": [
       "val aire_boule : float -> float = <fun>\n"
      ]
     },
     "execution_count": 10,
     "metadata": {},
     "output_type": "execute_result"
    }
   ],
   "source": [
    "let aire_boule r =\n",
    "(4. *. Float.pi *. r**3.)/.3."
   ]
  },
  {
   "cell_type": "markdown",
   "id": "18817317",
   "metadata": {},
   "source": [
    "**Exercice** Écrire une fonction `distance : float*float -> float*float -> float` telle que `distance p1 p2` renvoie la distance euclidienne entre les points `p1` et `p2`.  \n",
    "Vérifier que la distance entre $(0, 0)$ et $(1, 1)$ est (approximativement) $\\sqrt{2}$."
   ]
  },
  {
   "cell_type": "code",
   "execution_count": 13,
   "id": "5e9b02ad-3056-4338-9ba5-7ae24ac330fd",
   "metadata": {},
   "outputs": [
    {
     "data": {
      "text/plain": [
       "val distance : float * float -> float * float -> float = <fun>\n"
      ]
     },
     "execution_count": 13,
     "metadata": {},
     "output_type": "execute_result"
    }
   ],
   "source": [
    "let distance p1 p2 =\n",
    "let x1, y1 = p1 in\n",
    "let x2, y2 = p2 in\n",
    "sqrt(((x2-.x1)**2.)+.((y2-.y1)**2.))"
   ]
  },
  {
   "cell_type": "code",
   "execution_count": 15,
   "id": "35637a0f-6838-4e1b-981a-97c36d13e26a",
   "metadata": {},
   "outputs": [
    {
     "data": {
      "text/plain": [
       "- : float = 1.41421356237309515\n"
      ]
     },
     "execution_count": 15,
     "metadata": {},
     "output_type": "execute_result"
    }
   ],
   "source": [
    "distance (0.,0.) (1.,1.)"
   ]
  },
  {
   "cell_type": "code",
   "execution_count": 16,
   "id": "d8d78a85-7e00-4d14-ba7e-1916fbb0a9f6",
   "metadata": {},
   "outputs": [
    {
     "data": {
      "text/plain": [
       "- : float = 1.41421356237309515\n"
      ]
     },
     "execution_count": 16,
     "metadata": {},
     "output_type": "execute_result"
    }
   ],
   "source": [
    "sqrt(2.)"
   ]
  },
  {
   "cell_type": "markdown",
   "id": "6be0092c",
   "metadata": {},
   "source": [
    "**Exercice** Écrire une fonction `polaire : float*float -> float*float` qui, étant donné les coordonnées polaires $(r, \\theta)$ d'un point, renvoie ses coordonnées cartésiennes $(x, y)$. On rappelle que $x = r\\cos(\\theta)$ et $y = r\\sin(\\theta)$. On pourra utiliser `cos` et `sin` en OCaml."
   ]
  },
  {
   "cell_type": "code",
   "execution_count": 45,
   "id": "c8847104-d104-486a-a81e-07791454fadd",
   "metadata": {},
   "outputs": [
    {
     "data": {
      "text/plain": [
       "val polaire : float * float -> float * float = <fun>\n"
      ]
     },
     "execution_count": 45,
     "metadata": {},
     "output_type": "execute_result"
    }
   ],
   "source": [
    "let polaire (r,t) =\n",
    "let x = r*.cos(t) in\n",
    "let y = r*.sin(t) in\n",
    "x,y;;"
   ]
  },
  {
   "cell_type": "markdown",
   "id": "2992c0fe",
   "metadata": {},
   "source": [
    "**Exercice** Écrire une fonction `milieu : float*float -> float*float -> float*float` telle que `milieu p1 p2` renvoie le milieu du segment d'extrémités `p1` et `p2`."
   ]
  },
  {
   "cell_type": "code",
   "execution_count": 25,
   "id": "902b40a0-b3a5-49fb-9800-e2478713add5",
   "metadata": {},
   "outputs": [
    {
     "data": {
      "text/plain": [
       "val milieu : float * float -> float * float -> float * float = <fun>\n"
      ]
     },
     "execution_count": 25,
     "metadata": {},
     "output_type": "execute_result"
    }
   ],
   "source": [
    "let milieu p1 p2 =\n",
    "let x1, y1 = p1 in\n",
    "let x2, y2 = p2 in\n",
    "((x1+.x2)/.2.),((y1+.y2)/.2.)"
   ]
  },
  {
   "cell_type": "markdown",
   "id": "b0d67dd4",
   "metadata": {},
   "source": [
    "**Exercice** Écrire une fonction `parallelogramme : float*float -> float*float -> float*float -> float*float -> bool` telle que `parallelogramme p1 p2 p3 p4` renvoie `true` si les points `p1`, `p1`, `p1`, `p1` forment un parallélogramme, c'est à dire si les côtés opposés sont (approximativement) de même longueur.  \n",
    "On fera attention à ne pas comparer 2 flottants avec `=`, mais regarder à la place si la différence est petite (< 0.001 par exemple)."
   ]
  },
  {
   "cell_type": "code",
   "execution_count": 44,
   "id": "2b791ef0-9be8-41cc-ac49-07b732dac5b1",
   "metadata": {},
   "outputs": [
    {
     "data": {
      "text/plain": [
       "val parallelogramme :\n",
       "  float * float -> float * float -> float * float -> float * float -> bool =\n",
       "  <fun>\n"
      ]
     },
     "execution_count": 44,
     "metadata": {},
     "output_type": "execute_result"
    }
   ],
   "source": [
    "let parallelogramme p1 p2 p3 p4 =\n",
    "let x1, y1 = p1 in\n",
    "let x2, y2 = p2 in\n",
    "let x3, y3 = p3 in\n",
    "let x4, y4 = p4 in\n",
    "let l1 = sqrt(((x2-.x1)**2.)+.((y2-.y1)**2.)) in\n",
    "let l2 = sqrt(((x3-.x2)**2.)+.((y3-.y2)**2.)) in\n",
    "let l3 = sqrt(((x4-.x3)**2.)+.((y4-.y3)**2.)) in\n",
    "let l4 = sqrt(((x1-.x4)**2.)+.((y1-.y4)**2.)) in\n",
    "if l3-.l1 <0.001 then if l4-.l2 < 0.001 then true\n",
    "else false\n",
    "else false"
   ]
  },
  {
   "cell_type": "code",
   "execution_count": 48,
   "id": "c46ec98f-1cca-4a8e-bb4f-cbcb0bbf6ce2",
   "metadata": {},
   "outputs": [
    {
     "data": {
      "text/plain": [
       "- : bool = true\n"
      ]
     },
     "execution_count": 48,
     "metadata": {},
     "output_type": "execute_result"
    }
   ],
   "source": [
    "parallelogramme (0.,1.) (2.,3.) (5.,1.) (3.,-.1.)"
   ]
  },
  {
   "cell_type": "code",
   "execution_count": 2,
   "id": "46a4e515",
   "metadata": {
    "execution": {
     "iopub.execute_input": "2021-09-09T19:25:52.411490Z",
     "iopub.status.busy": "2021-09-09T19:25:52.410851Z",
     "iopub.status.idle": "2021-09-09T19:25:52.414563Z",
     "shell.execute_reply": "2021-09-09T19:25:52.416638Z"
    }
   },
   "outputs": [
    {
     "data": {
      "text/plain": [
       "- : float -> float = <fun>\n"
      ]
     },
     "execution_count": 2,
     "metadata": {},
     "output_type": "execute_result"
    }
   ],
   "source": [
    "acos"
   ]
  },
  {
   "cell_type": "markdown",
   "id": "8a89d768",
   "metadata": {},
   "source": [
    "## Congruence\n",
    "\n",
    "Le but de cet exercice est de calculer $1357^{2013}$ mod $5$ (mais la méthode utilisée s'applique dans un grande nombre d'exercices mathématiques).  \n",
    "On rappelle que les congruences sont compatibles avec la puissance :\n",
    "$$a \\equiv b [n] \\Longrightarrow a^k \\equiv b^k [n]$$\n",
    "\n",
    "1. Soit $k$ un entier positif. Que vaut $2^{4k}$ mod $5$? On pourra calculer des valeurs avec OCaml puis le démontrer mathématiquement.\n",
    "2. Que vaut $1357$ mod $5$? En déduire la valeur de $1357^{2013}$ mod $5$."
   ]
  },
  {
   "cell_type": "code",
   "execution_count": 7,
   "id": "826ecb3d-d3dd-43f2-8a39-12e9dca7e8f5",
   "metadata": {},
   "outputs": [
    {
     "data": {
      "text/plain": [
       "- : int = 1\n"
      ]
     },
     "execution_count": 7,
     "metadata": {},
     "output_type": "execute_result"
    },
    {
     "data": {
      "text/plain": [
       "- : int = 1\n"
      ]
     },
     "execution_count": 7,
     "metadata": {},
     "output_type": "execute_result"
    },
    {
     "data": {
      "text/plain": [
       "- : int = 1\n"
      ]
     },
     "execution_count": 7,
     "metadata": {},
     "output_type": "execute_result"
    },
    {
     "data": {
      "text/plain": [
       "- : int = 1\n"
      ]
     },
     "execution_count": 7,
     "metadata": {},
     "output_type": "execute_result"
    },
    {
     "data": {
      "text/plain": [
       "- : int = 1\n"
      ]
     },
     "execution_count": 7,
     "metadata": {},
     "output_type": "execute_result"
    }
   ],
   "source": [
    "(*k=0*)\n",
    "1 mod 5;;\n",
    "(*k=1*)\n",
    "16 mod 5;;\n",
    "(*k=2*)\n",
    "256 mod 5;;\n",
    "(*k=3*)\n",
    "4096 mod 5;;\n",
    "(*k=4*)\n",
    "65536 mod 5;;"
   ]
  },
  {
   "cell_type": "code",
   "execution_count": 11,
   "id": "7fc2ab88-6a21-44c9-8996-5f93f8579150",
   "metadata": {},
   "outputs": [],
   "source": [
    "(*On voit ici que pour k={0,1,2,3,4} 2**4k mod 5 est égal à 1.\n",
    "Pour prouver que cela est vrai pour tout entier positif, on utilise la formule donnée \n",
    "$$a \\equiv b [n] \\Longrightarrow a^k \\equiv b^k [n]$$ \n",
    "On a : 2**4k = 16**k,\n",
    "Or, 16 congrue 1 modulo 5, c'est-à-dire que 16 mod 5 = 1\n",
    "Donc 16**k mod 5 = 1**k = 1   *)"
   ]
  },
  {
   "cell_type": "code",
   "execution_count": 14,
   "id": "63533f0d-da6b-46a2-9359-414853b1a276",
   "metadata": {},
   "outputs": [
    {
     "data": {
      "text/plain": [
       "- : int = 2\n"
      ]
     },
     "execution_count": 14,
     "metadata": {},
     "output_type": "execute_result"
    }
   ],
   "source": [
    "1357 mod 5"
   ]
  },
  {
   "cell_type": "code",
   "execution_count": 16,
   "id": "dbaaac4c-a84c-4430-9a89-6aeec30c8dee",
   "metadata": {},
   "outputs": [
    {
     "data": {
      "text/plain": [
       "- : bool = true\n"
      ]
     },
     "execution_count": 16,
     "metadata": {},
     "output_type": "execute_result"
    }
   ],
   "source": [
    "(*Or, on voit que :*)\n",
    "1357*1357 mod 5 = 4"
   ]
  },
  {
   "cell_type": "code",
   "execution_count": 18,
   "id": "d7a26a7d-a906-4e1b-af9f-943823dda70d",
   "metadata": {},
   "outputs": [
    {
     "data": {
      "text/plain": [
       "- : float = 1.\n"
      ]
     },
     "execution_count": 18,
     "metadata": {},
     "output_type": "execute_result"
    }
   ],
   "source": [
    "(*On peut aussi dire que 1357**2 mod 5 = -1 \n",
    "Donc, (1357**2)**1006 mod 5 = (-1)**1006 *)\n",
    "(-.1.)**1006."
   ]
  },
  {
   "cell_type": "code",
   "execution_count": 19,
   "id": "3de7ae2b-7377-47b1-9063-2a4f0da57935",
   "metadata": {},
   "outputs": [
    {
     "ename": "interrupt",
     "evalue": "intterupt",
     "output_type": "error",
     "traceback": [
      "\u001b[31mException: Sys.Break.\u001b[0m"
     ]
    }
   ],
   "source": [
    "(*On a 1357**2012 mod 5 = 1,\n",
    "Donc 1357**2013 mod 5 = (1357**2012 mod 5) + (1357 mod 5) = 1 + 2 = 3 *)"
   ]
  },
  {
   "cell_type": "markdown",
   "id": "60c42e47",
   "metadata": {},
   "source": [
    "## Nombres aléatoires\n",
    "\n",
    "`Random.int n` permet d'obtenir un entier uniformément au hasard entre 0 et `n - 1` (chacun de ces entiers a la même probabilité $\\frac{1}{n}$ d'être obtenu).  \n",
    "Dans cet exercice, on imagine que l'on possède comme seule source aléatoire un dé à 5 faces (c'est à dire que l'on a seulement le droit d'utiliser `Random.int 5`).\n",
    "\n",
    "1. Calculer `(Random.int 5) + (Random.int 5)` plusieurs fois. Est-ce que le résultat vous semble être un entier uniformément au hasard entre 0 et 8?  \n",
    "2. Quelle est la probabilité d'obtenir `0` avec `(Random.int 5) + (Random.int 5)`? D'obtenir `1`? Quelle est l'entier qui a le plus de chances d'apparaître?\n",
    "3. Comment générer uniformément un entier entre 0 et 24? (C'est à dire passer de 5 possibilités à 25)\n",
    "3. Comment générer uniformément un entier entre 0 et 6? Écrire une fonction pour le faire. On utilisera une méthode par rejection (rejection sampling) : générer dans un espace plus grand et regénérer si la valeur n'est pas dans l'intervalle souhaité.  \n",
    "Pour cela on utilisera une boucle while :\n",
    "```ocaml\n",
    "while ... do\n",
    "    ...\n",
    "done\n",
    "```"
   ]
  },
  {
   "cell_type": "code",
   "execution_count": 36,
   "id": "c06e7074",
   "metadata": {},
   "outputs": [],
   "source": [
    "(*1. après plusieurs essais, le résultat ne semble pas uniformément au hasard entre 0 et 8, certains nombres sont plus réccurents que d'autres*)\n",
    "(*2. Si on modélise la situation avec un dé à 5 faces que l'on lance deux fois (allant de 0 à 4), on se rend compte que le résultat obtenu par\n",
    "(Random.int 5) + (Random.int 5) est la somme des deux chiffres affichés par le dé. Or, on remarque qu'il y a deux possiblités pour que la somme des \n",
    "deux résultats affichés par le dé soit égale à 1 et une possibilité que ce soit égale à 0. Cela correspond à 1/25 pour 0 et 2/25 pour 1. APrès avoir\n",
    "réalisé un tableau à doubles entrées, l'entier ayant le plus de chances d'apparaître est le 4*)"
   ]
  },
  {
   "cell_type": "code",
   "execution_count": 37,
   "id": "a69d1c4e-f4a1-4164-be47-90763c14b56d",
   "metadata": {},
   "outputs": [
    {
     "ename": "interrupt",
     "evalue": "intterupt",
     "output_type": "error",
     "traceback": [
      "\u001b[31mException: Sys.Break.\u001b[0m"
     ]
    }
   ],
   "source": [
    "(*3. Pour générer uniformément un entier entre 0 et 24 avec seulement un dé à 5 faces, on lance le dé 2 fois et on associe chaque valeur par exemple\n",
    "00 à 0, 03 à 3, 21 à 11, 24 à 14, 34 à 19, 44 à 24*)"
   ]
  },
  {
   "cell_type": "code",
   "execution_count": null,
   "id": "e32b3dd8-345b-43fd-b0dc-73c0bcdb2696",
   "metadata": {},
   "outputs": [],
   "source": []
  }
 ],
 "metadata": {
  "kernelspec": {
   "display_name": "OCaml default",
   "language": "OCaml",
   "name": "ocaml-jupyter"
  },
  "language_info": {
   "codemirror_mode": "text/x-ocaml",
   "file_extension": ".ml",
   "mimetype": "text/x-ocaml",
   "name": "OCaml",
   "nbconverter_exporter": null,
   "pygments_lexer": "OCaml",
   "version": "4.08.1"
  }
 },
 "nbformat": 4,
 "nbformat_minor": 5
}

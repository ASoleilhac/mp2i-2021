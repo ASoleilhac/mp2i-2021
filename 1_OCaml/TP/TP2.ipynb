{
 "cells": [
  {
   "cell_type": "markdown",
   "id": "f51c9906",
   "metadata": {},
   "source": [
    "# TP 2 : récursivité et conditions\n",
    "\n",
    "Dans tout le TP, il est interdit d'utiliser des boucles (pas de `for` ni `while`).\n",
    "\n",
    "Rappel : pensez à tester toutes vos fonctions sur des exemples."
   ]
  },
  {
   "cell_type": "markdown",
   "id": "f20dbd56",
   "metadata": {},
   "source": [
    "## Petites questions\n",
    "\n",
    "1. Définir une fonction `divise` telle que `divise a b` renvoie `true` si  `a` divise `b`, `false` sinon. Il est interdit d'utiliser `if`.\n",
    "2. Définir une fonction récursive `somme` telle que `somme n` renvoie $\\sum_{k=1}^n k^2$.\n",
    "3. Définir une fonction récursive `u` telle que `u n` renvoie $u_n$ définie par :\n",
    "$$u_0 = 42$$\n",
    "$$u_{n} = 3\\sqrt{u_{n - 1}} + 2$$\n",
    "4. Définir une fonction récursive `v` telle que `v a n` renvoie $v_n$ définie par (on fera attention à n'utiliser qu'un appel récursif) :\n",
    "$$v_0 = a$$\n",
    "$$v_{n + 1} = \\frac{1}{2}(v_n + \\frac{a}{v_n})$$\n",
    "5. Calculer `v a n` pour plusieurs valeurs de `a` et de `n` : que peut-on conjecturer sur la limite de $v_n$ ? Optionnel : le démontrer.  \n",
    "6. Soient $a$ et $b$ deux entiers et $q, r$ le quotient et reste de la division euclidienne de $a$ par $b$ ($a = bq + r$). En utilisant le fait que $PGCD(a, b)$ = $PGCD(b, r)$, écrire une fonction `euclide` telle que `euclide a b` renvoie le PGCD de $a$ et $b$."
   ]
  },
  {
   "cell_type": "code",
   "execution_count": 1,
   "id": "4b7df1c1-9158-45b0-a37c-263727895038",
   "metadata": {},
   "outputs": [
    {
     "data": {
      "text/plain": [
       "val divise : int -> int -> bool = <fun>\n"
      ]
     },
     "execution_count": 1,
     "metadata": {},
     "output_type": "execute_result"
    }
   ],
   "source": [
    "let divise a b =\n",
    "    a mod b = 0"
   ]
  },
  {
   "cell_type": "code",
   "execution_count": 7,
   "id": "faa18623-5170-43f6-a328-3de9e7dd29f0",
   "metadata": {},
   "outputs": [
    {
     "data": {
      "text/plain": [
       "val somme : int -> int = <fun>\n"
      ]
     },
     "execution_count": 7,
     "metadata": {},
     "output_type": "execute_result"
    }
   ],
   "source": [
    "let rec somme n =\n",
    "    if n = 0 then 0\n",
    "    else somme(n-1) + n*n"
   ]
  },
  {
   "cell_type": "code",
   "execution_count": 11,
   "id": "a2508726-9afb-4b28-b58f-bcf43f563e96",
   "metadata": {},
   "outputs": [
    {
     "data": {
      "text/plain": [
       "val u : float -> float = <fun>\n"
      ]
     },
     "execution_count": 11,
     "metadata": {},
     "output_type": "execute_result"
    }
   ],
   "source": [
    "let rec u n =\n",
    "    if n = 0. then 42.\n",
    "    else 3.*.sqrt(u(n-.1.))+.2. "
   ]
  },
  {
   "cell_type": "code",
   "execution_count": 2,
   "id": "f8576de2-0981-4153-894e-6773eb0214da",
   "metadata": {},
   "outputs": [
    {
     "data": {
      "text/plain": [
       "val v : float -> float -> float = <fun>\n"
      ]
     },
     "execution_count": 2,
     "metadata": {},
     "output_type": "execute_result"
    }
   ],
   "source": [
    "let rec v a n =\n",
    "    if n = 0. then a\n",
    "    else (1./.2.)*.((v a (n-.1.)) +. (a/.v a (n-.1.)))"
   ]
  },
  {
   "cell_type": "code",
   "execution_count": 4,
   "id": "58eed35b-041e-4831-bbfd-e1598df46027",
   "metadata": {},
   "outputs": [
    {
     "data": {
      "text/plain": [
       "- : float = 3.00000000139698386\n"
      ]
     },
     "execution_count": 4,
     "metadata": {},
     "output_type": "execute_result"
    }
   ],
   "source": [
    "v 9. 5."
   ]
  },
  {
   "cell_type": "code",
   "execution_count": 5,
   "id": "d519e87d-a0d9-4e66-8cb5-e027d88c9a38",
   "metadata": {},
   "outputs": [
    {
     "data": {
      "text/plain": [
       "- : float = 3.\n"
      ]
     },
     "execution_count": 5,
     "metadata": {},
     "output_type": "execute_result"
    },
    {
     "ename": "interrupt",
     "evalue": "intterupt",
     "output_type": "error",
     "traceback": [
      "\u001b[31mException: Sys.Break.\u001b[0m"
     ]
    }
   ],
   "source": [
    "v 9. 10."
   ]
  },
  {
   "cell_type": "code",
   "execution_count": 2,
   "id": "3689055d-e73e-4b03-b0cd-811f816602f7",
   "metadata": {},
   "outputs": [],
   "source": [
    "(* limite de vn, sqrt(n)*)"
   ]
  },
  {
   "cell_type": "code",
   "execution_count": 4,
   "id": "30c5b7b9-42c0-4e69-990b-f95a4da947dd",
   "metadata": {},
   "outputs": [
    {
     "data": {
      "text/plain": [
       "val euclide : int -> int -> int = <fun>\n"
      ]
     },
     "execution_count": 4,
     "metadata": {},
     "output_type": "execute_result"
    }
   ],
   "source": [
    "let rec euclide a b =\n",
    "    if a mod b = 0 then b\n",
    "    else\n",
    "    let k = ref b in\n",
    "    while a mod !k <> 0 do\n",
    "        k := !k - 1\n",
    "    done;\n",
    "    !k"
   ]
  },
  {
   "cell_type": "code",
   "execution_count": 6,
   "id": "deac4126-5bb0-46e9-8f59-a2003c87f57f",
   "metadata": {},
   "outputs": [
    {
     "data": {
      "text/plain": [
       "- : int = 30\n"
      ]
     },
     "execution_count": 6,
     "metadata": {},
     "output_type": "execute_result"
    }
   ],
   "source": [
    "euclide 120 31"
   ]
  },
  {
   "cell_type": "markdown",
   "id": "7afee366",
   "metadata": {},
   "source": [
    "## Exponentiation rapide\n",
    "\n",
    "1. Écrire une fonction récursive `puissance` naïve (c'est à dire très simple) telle que `puissance a n` renvoie $a^n$. Combien effectue t-elle de multiplications (en fonction de n) ?\n",
    "2. Écrire une fonction récursive `exp_rapide` pour calculer $a^n$, en utilisant les relations suivantes :\n",
    "$$ \n",
    "\\begin{cases} \n",
    "a^n = (a^{\\frac{n}{2}})^2 ~~~~~~~~~\\text{si }n\\text{ est pair}\\\\\n",
    "a^{n} = a \\times (a^{\\frac{n-1}{2}})^2 ~~~~~\\text{sinon}\n",
    "\\end{cases}\n",
    "$$\n",
    "**Attention** : pour mettre au carré, utiliser une variable plutôt que faire 2 appels récursifs, ce qui augmenterait beaucoup le nombre d'opérations.  \n",
    "**Remarque** : On montrera plus tard que cette 2ème version demande de l'ordre de $\\ln(n)$ multiplications seulement."
   ]
  },
  {
   "cell_type": "code",
   "execution_count": 5,
   "id": "08314e96-e99d-416f-b1d6-48dfc9b4e01d",
   "metadata": {},
   "outputs": [
    {
     "data": {
      "text/plain": [
       "val puissance : float -> float -> float = <fun>\n"
      ]
     },
     "execution_count": 5,
     "metadata": {},
     "output_type": "execute_result"
    }
   ],
   "source": [
    "let rec puissance a n =\n",
    "    if n = 0. then 1.\n",
    "    else a *. puissance a (n-.1.)"
   ]
  },
  {
   "cell_type": "code",
   "execution_count": 6,
   "id": "7d47b12d-cb62-4bf3-a160-bab5afc978de",
   "metadata": {},
   "outputs": [
    {
     "data": {
      "text/plain": [
       "- : float = 16.\n"
      ]
     },
     "execution_count": 6,
     "metadata": {},
     "output_type": "execute_result"
    }
   ],
   "source": [
    "puissance 2. 4."
   ]
  },
  {
   "cell_type": "code",
   "execution_count": 8,
   "id": "a8bb4255-3331-4f1e-a105-ad9cb498bdae",
   "metadata": {},
   "outputs": [
    {
     "data": {
      "text/plain": [
       "val exp_rapide : float -> float -> float = <fun>\n"
      ]
     },
     "execution_count": 8,
     "metadata": {},
     "output_type": "execute_result"
    }
   ],
   "source": [
    "let rec exp_rapide a n =\n",
    "    if n /. 2. = 0. then ((a**(n/.2.))**2.)\n",
    "    else a *. ((a**((n-.1.)/.2.))**2.)"
   ]
  },
  {
   "cell_type": "code",
   "execution_count": 10,
   "id": "4747f688-3c3a-456b-977d-415109851be2",
   "metadata": {},
   "outputs": [
    {
     "data": {
      "text/plain": [
       "- : float = 32.\n"
      ]
     },
     "execution_count": 10,
     "metadata": {},
     "output_type": "execute_result"
    }
   ],
   "source": [
    "exp_rapide 2. 5."
   ]
  },
  {
   "cell_type": "markdown",
   "id": "2da20220",
   "metadata": {},
   "source": [
    "# Accumulateur\n",
    "\n",
    "On a vu dans le cours sur la récursivité (avec l'exemple de la suite de Fibonacci) qu'un accumulateur est un argument que l'on ajoute à une fonction pour calculer sa valeur de retour.  \n",
    "1. Écrire une fonction `fact` telle que `fact acc n` renvoie `n`!, en utilisant `acc` comme accumulateur. Voici à quoi va ressemble `fact` :\n",
    "```ocaml\n",
    "let rec fact acc n =\n",
    "    if n = 0 then acc  (* on renvoie l'accumulateur qui contient le résultat *)\n",
    "    else fact ... (* appel récursif en modifiant l'accumulateur *)\n",
    "```\n",
    "2. En utilisant `fact` et l'application partielle de fonction, définir `f : int -> int` renvoyant la factoielle d'un entier.\n",
    "\n",
    "**Remarque** : le but ici est juste de vous entraîner à savoir utiliser un accumulateur, qui sont parfois utiles (comme pour la fonction `fibo` du cours). En DS ou concours on évitera d'utiliser un accumulateur lorsqu'il y en a pas besoin (comme pour la fonction `fact`...), car cela rend le code plus compliqué.  "
   ]
  },
  {
   "cell_type": "code",
   "execution_count": 11,
   "id": "4cca6b5b-07d5-4039-b394-ba11cf9ce95e",
   "metadata": {},
   "outputs": [
    {
     "data": {
      "text/plain": [
       "val fact : int -> int -> int = <fun>\n"
      ]
     },
     "execution_count": 11,
     "metadata": {},
     "output_type": "execute_result"
    }
   ],
   "source": [
    "let rec fact acc n =\n",
    "    if n = 0 then acc\n",
    "    else fact (acc*n) (n-1)"
   ]
  },
  {
   "cell_type": "code",
   "execution_count": 15,
   "id": "45d54888-c065-43e0-bb9f-81a6bd59acc5",
   "metadata": {},
   "outputs": [
    {
     "data": {
      "text/plain": [
       "- : int = 720\n"
      ]
     },
     "execution_count": 15,
     "metadata": {},
     "output_type": "execute_result"
    }
   ],
   "source": [
    "fact 1 6"
   ]
  },
  {
   "cell_type": "code",
   "execution_count": 16,
   "id": "e3722f1e-d2bb-4cd3-a590-dc5af56e1b22",
   "metadata": {},
   "outputs": [
    {
     "data": {
      "text/plain": [
       "val fact : int -> int = <fun>\n"
      ]
     },
     "execution_count": 16,
     "metadata": {},
     "output_type": "execute_result"
    }
   ],
   "source": [
    "let rec fact n =\n",
    "    if n = 0 then 1\n",
    "    else n * fact(n-1)"
   ]
  },
  {
   "cell_type": "code",
   "execution_count": 17,
   "id": "a967388e-76ca-48e1-adea-5dae14edcb14",
   "metadata": {},
   "outputs": [
    {
     "data": {
      "text/plain": [
       "- : int = 720\n"
      ]
     },
     "execution_count": 17,
     "metadata": {},
     "output_type": "execute_result"
    }
   ],
   "source": [
    "fact 6"
   ]
  },
  {
   "cell_type": "markdown",
   "id": "c1b7cf83",
   "metadata": {},
   "source": [
    "## Temps de vol de la suite de Syracuse\n",
    "\n",
    "La suite de Syracuse d'un entier $a$ est définie par :  \n",
    "$$u_0 = a$$\n",
    "$$u_{n+1} =\n",
    "\\begin{cases} \n",
    "     \\frac{u_n}{2}, \\text{si } s_n \\text{ est pair}\\\\\n",
    "    3u_n + 1, \\text{sinon}\\\\\n",
    "\\end{cases}$$\n",
    "\n",
    "Le temps de vol de $(u_n)_n$ est le plus petit entier $t$ tel que $u_t = 1$.  \n",
    "\n",
    "1. Écrire une fonction récursive `temps_vol` telle que `temps_vol a` renvoie le temps de vol de $(u_n)_n$ (où $u_0 = a$)."
   ]
  },
  {
   "cell_type": "code",
   "execution_count": 22,
   "id": "3dd3d764-0071-4bbb-ac7b-24ff29f2ab20",
   "metadata": {},
   "outputs": [
    {
     "data": {
      "text/plain": [
       "val temps_vol : int -> int -> int = <fun>\n"
      ]
     },
     "execution_count": 22,
     "metadata": {},
     "output_type": "execute_result"
    }
   ],
   "source": [
    "let rec temps_vol a n = \n",
    "    if n = 0 then a\n",
    "    else if temps_vol a (n-1) mod 2 = 0 then temps_vol a (n-1)/2\n",
    "        else 3*(temps_vol a (n-1)) +1"
   ]
  },
  {
   "cell_type": "code",
   "execution_count": 27,
   "id": "b0354b0f-e152-4270-99e9-c1e58bdfcd0c",
   "metadata": {},
   "outputs": [
    {
     "data": {
      "text/plain": [
       "- : int = 40\n"
      ]
     },
     "execution_count": 27,
     "metadata": {},
     "output_type": "execute_result"
    }
   ],
   "source": [
    "temps_vol 34 5"
   ]
  },
  {
   "cell_type": "code",
   "execution_count": 29,
   "id": "f77fa6e3-b73e-47ae-ac33-a79b9ecff49d",
   "metadata": {},
   "outputs": [
    {
     "data": {
      "text/plain": [
       "- : int = 4\n"
      ]
     },
     "execution_count": 29,
     "metadata": {},
     "output_type": "execute_result"
    }
   ],
   "source": [
    "temps_vol 1 7"
   ]
  },
  {
   "cell_type": "markdown",
   "id": "11c5f47b",
   "metadata": {},
   "source": [
    "## Fonction mystérieuse\n",
    "\n",
    "Tester la fonction suivante pour des $n$ entre $0$ et $100$, conjecturer un théorème et prouvez-le par récurrence."
   ]
  },
  {
   "cell_type": "code",
   "execution_count": 1,
   "id": "39aea599",
   "metadata": {
    "execution": {
     "iopub.execute_input": "2021-09-15T17:26:23.785054Z",
     "iopub.status.busy": "2021-09-15T17:26:23.784516Z",
     "iopub.status.idle": "2021-09-15T17:26:23.787595Z",
     "shell.execute_reply": "2021-09-15T17:26:23.787990Z"
    }
   },
   "outputs": [
    {
     "data": {
      "text/plain": [
       "val f : int -> int = <fun>\n"
      ]
     },
     "execution_count": 1,
     "metadata": {},
     "output_type": "execute_result"
    }
   ],
   "source": [
    "let rec f n =\n",
    "    if n > 100 then n - 10 \n",
    "    else f (f (n + 11)) ;;"
   ]
  },
  {
   "cell_type": "markdown",
   "id": "8015fa13",
   "metadata": {},
   "source": [
    "## Fonctions mutuellement récursives\n",
    "\n",
    "Il est possible de définir simultanément deux fonctions `f` et `g`, dépendant l'une de l'autre avec `and` :\n",
    "```ocaml\n",
    "let rec f x = ... and g y = ... in ...\n",
    "```\n",
    "\n",
    "Écrire deux fonctions `u` et `v` permettant de calculer le $n$ième terme des suites définies par :\n",
    "$$u_0 = 2$$\n",
    "$$v_0 = 3$$\n",
    "$$u_{n + 1} = u_n - u_n v_n$$\n",
    "$$v_{n + 1} = v_n + u_n v_n$$"
   ]
  },
  {
   "cell_type": "code",
   "execution_count": 30,
   "id": "787126b8-3c86-4eb6-9c28-5fe4193f63a3",
   "metadata": {},
   "outputs": [
    {
     "data": {
      "text/plain": [
       "val u : int -> int = <fun>\n",
       "val v : int -> int = <fun>\n"
      ]
     },
     "execution_count": 30,
     "metadata": {},
     "output_type": "execute_result"
    }
   ],
   "source": [
    "let rec u n =\n",
    "    if n = 0 then 2\n",
    "    else (u (n-1)) - (u (n-1))*(v (n-1))\n",
    "and v n =\n",
    "    if n = 0 then 3\n",
    "    else (v (n-1)) + (u (n-1))*(v (n-1))"
   ]
  },
  {
   "cell_type": "code",
   "execution_count": 34,
   "id": "eef9b17b-e18f-401d-a87c-e3dbfcb46395",
   "metadata": {},
   "outputs": [
    {
     "data": {
      "text/plain": [
       "- : int = 2\n"
      ]
     },
     "execution_count": 34,
     "metadata": {},
     "output_type": "execute_result"
    },
    {
     "data": {
      "text/plain": [
       "- : int = 3\n"
      ]
     },
     "execution_count": 34,
     "metadata": {},
     "output_type": "execute_result"
    },
    {
     "data": {
      "text/plain": [
       "- : int = 32\n"
      ]
     },
     "execution_count": 34,
     "metadata": {},
     "output_type": "execute_result"
    },
    {
     "data": {
      "text/plain": [
       "- : int = -891\n"
      ]
     },
     "execution_count": 34,
     "metadata": {},
     "output_type": "execute_result"
    },
    {
     "data": {
      "text/plain": [
       "- : int = 41162468016488448\n"
      ]
     },
     "execution_count": 34,
     "metadata": {},
     "output_type": "execute_result"
    },
    {
     "data": {
      "text/plain": [
       "- : int = -3392066130837372923\n"
      ]
     },
     "execution_count": 34,
     "metadata": {},
     "output_type": "execute_result"
    }
   ],
   "source": [
    "u 0;;\n",
    "v 0;;\n",
    "u 2;;\n",
    "v 3;;\n",
    "u 7;;\n",
    "v 8;;"
   ]
  },
  {
   "cell_type": "markdown",
   "id": "28f1e644",
   "metadata": {},
   "source": [
    "## Retour sur les tours de Hanoi\n",
    "\n",
    "**Remarque** : le problème des tours de Hanoi a déjà été vu en stage, mais on le refait ici en OCaml. En outre, il est utile de réactiver sa mémoire pour se souvenir des méthodes et il m'arrivera pendant l'année de redonner des exercices déjà posés."
   ]
  },
  {
   "cell_type": "markdown",
   "id": "035197da",
   "metadata": {},
   "source": [
    "![](../img/hanoi.png)\n",
    "\n",
    "$n$ disques sont posés sur la tige à gauche. L'objectif est de déplacer tous les disques sur la tige à droite :\n",
    "\n",
    "![](../img/hanoi2.png)\n",
    "\n",
    "Règles du jeu :\n",
    "\n",
    "- On ne peut déplacer qu'un disque à la fois (celui tout en haut), sur une autre tige.\n",
    "- Il est interdit de poser un disque sur un autre plus petit.\n",
    "\n",
    "Exemple de premier déplacement valide :\n",
    "\n",
    "![](../img/hanoi3.png)\n",
    "\n",
    "On souhaite écrire une fonction récursive `hanoi` telle que `hanoi n tige1 tige2` affiche une suite de déplacements (avec des `print_int`) permettant de déplacer $n$ disques depuis `tige1` vers `tige2`. On supposera que les tiges sont numérotées 0, 1, 2 (de gauche à droite).\n",
    "\n",
    "1. Supposons que vous sachiez déplacer $n-1$ disques d'une tige à une autre. Comment déplacer $n$ disques d'une tige à une autre ?\n",
    "2. Écrire `hanoi`."
   ]
  },
  {
   "cell_type": "code",
   "execution_count": 11,
   "id": "a73c432f-5ca3-4793-b9ce-6d1cf42b200b",
   "metadata": {},
   "outputs": [
    {
     "ename": "error",
     "evalue": "compile_error",
     "output_type": "error",
     "traceback": [
      "File \"[11]\", line 4, characters 9-14:\n4 |     else hanoi\n             ^^^^^\nError: This expression has type int -> int -> int -> 'a -> unit\n       but an expression was expected of type unit\n"
     ]
    }
   ],
   "source": [
    "let rec hanoi n tige0 tige1 tige2 =\n",
    "    if n < 2 then (print_int tige0; print_string \" -> \";\n",
    "    print_int tige1 ; print_newline();)\n",
    "    else hanoi "
   ]
  },
  {
   "cell_type": "code",
   "execution_count": 12,
   "id": "d857a6f7-c31a-46c0-ba2b-f828cd2751e8",
   "metadata": {},
   "outputs": [],
   "source": [
    "(*pas réussi*)"
   ]
  }
 ],
 "metadata": {
  "kernelspec": {
   "display_name": "OCaml default",
   "language": "OCaml",
   "name": "ocaml-jupyter"
  },
  "language_info": {
   "codemirror_mode": "text/x-ocaml",
   "file_extension": ".ml",
   "mimetype": "text/x-ocaml",
   "name": "OCaml",
   "nbconverter_exporter": null,
   "pygments_lexer": "OCaml",
   "version": "4.08.1"
  }
 },
 "nbformat": 4,
 "nbformat_minor": 5
}
